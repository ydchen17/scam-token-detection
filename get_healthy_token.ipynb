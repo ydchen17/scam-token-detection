{
 "cells": [
  {
   "cell_type": "code",
   "execution_count": 20,
   "metadata": {},
   "outputs": [],
   "source": [
    "#!pip install selenium\n",
    "#!pip3 install webdriver-manager"
   ]
  },
  {
   "cell_type": "code",
   "execution_count": null,
   "metadata": {},
   "outputs": [],
   "source": [
    "from selenium import webdriver\n",
    "from selenium.webdriver.chrome.service import Service\n",
    "from webdriver_manager.chrome import ChromeDriverManager\n",
    "from selenium.webdriver.chrome.options import Options\n",
    "from selenium.webdriver.common.by import By\n",
    "\n",
    "import time\n",
    "import pandas as pd\n",
    "from web3 import Web3\n",
    "import shared\n",
    "shared.init()\n",
    "\n",
    "df_healthy_tokens = []\n",
    "options = Options()\n",
    "options.headless = False\n",
    "driver = webdriver.Chrome(options=options, service=Service(ChromeDriverManager().install()))\n",
    "#driver.get(\"https://www.google.com\")\n",
    "\n",
    "for j in range(1, 7):\n",
    "    for i in range(1, 51):\n",
    "            driver.get(f\"https://polygonscan.com/tokens?p={j}\")\n",
    "            time.sleep(3)\n",
    "            try:\n",
    "                token_name = driver.find_element(by=By.XPATH, value=f'/html/body/div[1]/main/div[2]/div/div[2]/div/div/div[2]'\n",
    "                                                          f'/div[2]/table/tbody/tr[{i}]/td[2]/div/div/h3/a').text\n",
    "            except:\n",
    "                driver.execute_script(f\"window.scrollTo(0, 1080)\")\n",
    "                time.sleep(2)\n",
    "\n",
    "            driver.find_element(by=By.XPATH, value=f'/html/body/div[1]/main/div[2]/div/div[2]/div/div/div[2]/div[2]/table/'\n",
    "                                         f'tbody/tr[{i}]/td[2]/div/div/h3/a').click()\n",
    "            time.sleep(3)\n",
    "            token_address = driver.find_element(by=By.XPATH, value='/html/body/div[1]/main/div[4]/div[1]/div[2]/div/div[2]'\n",
    "                                                         '/div[1]/div[2]/div').text\n",
    "            token_address = Web3.toChecksumAddress(token_address)\n",
    "            df_healthy_tokens.append([token_name, token_address])\n",
    "            print(token_name, token_address)\n",
    "\n",
    "    pd.DataFrame(df_healthy_tokens).to_csv(\"data/healthy_tokens_polygonscan.csv\", index=False)"
   ]
  },
  {
   "cell_type": "code",
   "execution_count": 39,
   "metadata": {},
   "outputs": [
    {
     "name": "stderr",
     "output_type": "stream",
     "text": [
      "\n",
      "\n",
      "====== WebDriver manager ======\n",
      "Current google-chrome version is 101.0.4951\n",
      "Get LATEST chromedriver version for 101.0.4951 google-chrome\n",
      "Driver [/Users/ydchen/.wdm/drivers/chromedriver/mac64/101.0.4951.41/chromedriver] found in cache\n"
     ]
    },
    {
     "name": "stdout",
     "output_type": "stream",
     "text": [
      "Tether USD (USDT) 0xdAC17F958D2ee523a2206206994597C13D831ec7\n",
      "BNB (BNB) 0xB8c77482e45F1F44dE1745F52C74426C631bDD52\n",
      "USD Coin (USDC) 0xA0b86991c6218b36c1d19D4a2e9Eb0cE3606eB48\n",
      "HEX (HEX) 0x2b591e99afE9f32eAA6214f7B7629768c40Eeb39\n",
      "Binance USD (BUSD) 0x4Fabb145d64652a948d72533023f6E7A623C7C53\n",
      "Wrapped BTC (WBTC) 0x2260FAC5E5542a773Aa44fBCfeDf7C193bc2C599\n"
     ]
    }
   ],
   "source": [
    "from selenium import webdriver\n",
    "from selenium.webdriver.chrome.service import Service\n",
    "from webdriver_manager.chrome import ChromeDriverManager\n",
    "from selenium.webdriver.chrome.options import Options\n",
    "from selenium.webdriver.common.by import By\n",
    "\n",
    "import time\n",
    "import pandas as pd\n",
    "from web3 import Web3\n",
    "import shared\n",
    "shared.init()\n",
    "\n",
    "df_healthy_tokens = []\n",
    "options = Options()\n",
    "options.headless = False\n",
    "driver = webdriver.Chrome(options=options, service=Service(ChromeDriverManager().install()))\n",
    "#driver.get(\"https://www.google.com\")\n",
    "\n",
    "for j in range(1, 7):\n",
    "    for i in range(1, 51):\n",
    "            driver.get(f\"https://etherscan.io/tokens?p={j}\")\n",
    "            time.sleep(3)\n",
    "            try:\n",
    "                token_name = driver.find_element(by=By.XPATH, value=f'/html/body/div[1]/main/div[2]/div/div[2]/div/div/div[2]'\n",
    "                                                          f'/div[2]/table/tbody/tr[{i}]/td[2]/div/div/h3/a').text\n",
    "                \n",
    "            except:\n",
    "                driver.execute_script(f\"window.scrollTo(0, 1080)\")\n",
    "                time.sleep(2)\n",
    "\n",
    "            driver.find_element(By.XPATH, f'/html/body/div[1]/main/div[2]/div/div[2]/div/div/div[2]/div[2]/table/'\n",
    "                                         f'tbody/tr[{i}]/td[2]/div/div/h3/a').click()\n",
    "            time.sleep(3)\n",
    "            driver.find_element(By.XPATH,'/html/body/div[1]/main/div[5]/div[1]/div[2]/div/div[2]/div[1]/div[2]/div/a[1]').click()\n",
    "            token_address = driver.find_element(By.XPATH, '//*[@id=\"mainaddress\"]').text\n",
    "            token_address = Web3.toChecksumAddress(token_address)\n",
    "            df_healthy_tokens.append([token_name, token_address])\n",
    "            print(token_name, token_address)\n",
    "\n",
    "    pd.DataFrame(df_healthy_tokens).to_csv(\"data/healthy_tokens_etherscan.csv\", index=False)"
   ]
  },
  {
   "cell_type": "code",
   "execution_count": null,
   "metadata": {},
   "outputs": [],
   "source": []
  }
 ],
 "metadata": {
  "interpreter": {
   "hash": "c6e4e9f98eb68ad3b7c296f83d20e6de614cb42e90992a65aa266555a3137d0d"
  },
  "kernelspec": {
   "display_name": "Python 3.9.10 ('base')",
   "language": "python",
   "name": "python3"
  },
  "language_info": {
   "codemirror_mode": {
    "name": "ipython",
    "version": 3
   },
   "file_extension": ".py",
   "mimetype": "text/x-python",
   "name": "python",
   "nbconvert_exporter": "python",
   "pygments_lexer": "ipython3",
   "version": "3.9.10"
  },
  "orig_nbformat": 4
 },
 "nbformat": 4,
 "nbformat_minor": 2
}
