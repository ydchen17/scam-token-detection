{
 "cells": [
  {
   "cell_type": "code",
   "execution_count": 4,
   "metadata": {},
   "outputs": [],
   "source": [
    "import warnings\n",
    "warnings.filterwarnings(f\"ignore\")\n",
    "\n",
    "import pandas as pd\n",
    "from tqdm import tqdm\n",
    "\n",
    "import shared\n",
    "shared.init()\n",
    "from Features.compute_curve import get_curve\n",
    "from Features.compute_transfer_features import get_transfer_features"
   ]
  },
  {
   "cell_type": "code",
   "execution_count": null,
   "metadata": {},
   "outputs": [],
   "source": [
    "hours_since_creation = 24\n",
    "protocol = \"uniswap_v2\"\n",
    "\n",
    "pools = pd.read_csv(f\"./data/{protocol}/polygon_pools.csv\")\n",
    "pools = pools.loc[(pools.token0 == shared.WMATIC) | (pools.token1 == shared.WMATIC)]\n",
    "\n",
    "tokens = pd.read_csv(f\"./data/{protocol}/labelled_tokens.csv\")\n",
    "time_elapsed = 60*60*hours_since_creation\n",
    "\n",
    "total_features = {}\n",
    "total_transfers = pd.DataFrame(columns=['token', 'address', 'price_rev'])"
   ]
  },
  {
   "cell_type": "code",
   "execution_count": 2,
   "metadata": {},
   "outputs": [
    {
     "name": "stderr",
     "output_type": "stream",
     "text": [
      "  0%|          | 0/303 [00:00<?, ?it/s]\n"
     ]
    },
    {
     "ename": "IndexError",
     "evalue": "index 1 is out of bounds for axis 0 with size 1",
     "output_type": "error",
     "traceback": [
      "\u001b[0;31m---------------------------------------------------------------------------\u001b[0m",
      "\u001b[0;31mIndexError\u001b[0m                                Traceback (most recent call last)",
      "\u001b[1;32m/Users/ydchen/MBDS_FYP/FYP_v3/ML.ipynb Cell 1'\u001b[0m in \u001b[0;36m<cell line: 24>\u001b[0;34m()\u001b[0m\n\u001b[1;32m     <a href='vscode-notebook-cell:/Users/ydchen/MBDS_FYP/FYP_v3/ML.ipynb#ch0000000?line=21'>22</a>\u001b[0m total_transfers \u001b[39m=\u001b[39m pd\u001b[39m.\u001b[39mDataFrame(columns\u001b[39m=\u001b[39m[\u001b[39m'\u001b[39m\u001b[39mtoken\u001b[39m\u001b[39m'\u001b[39m, \u001b[39m'\u001b[39m\u001b[39maddress\u001b[39m\u001b[39m'\u001b[39m, \u001b[39m'\u001b[39m\u001b[39mprice_rev\u001b[39m\u001b[39m'\u001b[39m])\n\u001b[1;32m     <a href='vscode-notebook-cell:/Users/ydchen/MBDS_FYP/FYP_v3/ML.ipynb#ch0000000?line=23'>24</a>\u001b[0m \u001b[39mfor\u001b[39;00m token_info \u001b[39min\u001b[39;00m tqdm(tokens\u001b[39m.\u001b[39mvalues):\n\u001b[0;32m---> <a href='vscode-notebook-cell:/Users/ydchen/MBDS_FYP/FYP_v3/ML.ipynb#ch0000000?line=24'>25</a>\u001b[0m     token_address, label \u001b[39m=\u001b[39m token_info[\u001b[39m0\u001b[39m], token_info[\u001b[39m1\u001b[39;49m]\n\u001b[1;32m     <a href='vscode-notebook-cell:/Users/ydchen/MBDS_FYP/FYP_v3/ML.ipynb#ch0000000?line=25'>26</a>\u001b[0m     pool \u001b[39m=\u001b[39m pools\u001b[39m.\u001b[39mloc[(pools\u001b[39m.\u001b[39mtoken0 \u001b[39m==\u001b[39m token_address) \u001b[39m|\u001b[39m (pools\u001b[39m.\u001b[39mtoken1 \u001b[39m==\u001b[39m token_address)]\u001b[39m.\u001b[39mvalues[\u001b[39m0\u001b[39m]\n\u001b[1;32m     <a href='vscode-notebook-cell:/Users/ydchen/MBDS_FYP/FYP_v3/ML.ipynb#ch0000000?line=26'>27</a>\u001b[0m     pool_address, token0, token1, block_number, pool_creation_timestamp \u001b[39m=\u001b[39m pool[\u001b[39m0\u001b[39m], pool[\u001b[39m1\u001b[39m], pool[\u001b[39m2\u001b[39m], pool[\u001b[39m4\u001b[39m], pool[\u001b[39m5\u001b[39m]\n",
      "\u001b[0;31mIndexError\u001b[0m: index 1 is out of bounds for axis 0 with size 1"
     ]
    }
   ],
   "source": [
    "for token_info in tqdm(tokens.values):\n",
    "    token_address, label = token_info[0], token_info[1]\n",
    "    pool = pools.loc[(pools.token0 == token_address) | (pools.token1 == token_address)].values[0]\n",
    "    pool_address, token0, token1, block_number, pool_creation_timestamp = pool[0], pool[1], pool[2], pool[4], pool[5]\n",
    "    total_features[pool_address] = {'token_address': token_address, 'label': label}\n",
    "\n",
    "    position = 1 if token1 == shared.WMATIC else 0\n",
    "    token = token0 if position == 1 else token1\n",
    "    limit_timestamp = pool_creation_timestamp + time_elapsed\n",
    "\n",
    "    transfers = pd.read_csv(f\"./data/{protocol}/transfer/{token}.csv\")\n",
    "    mints = pd.read_csv(f\"./data/{protocol}/mint/{pool_address}.csv\")\n",
    "    burns = pd.read_csv(f\"./data/{protocol}/burn/{pool_address}.csv\")\n",
    "    swaps = pd.read_csv(f\"./data/{protocol}/swap/{pool_address}.csv\")\n",
    "\n",
    "    transfers = transfers.loc[transfers.timestamps < limit_timestamp]\n",
    "    mints = mints.loc[mints.timestamps < limit_timestamp]\n",
    "    burns = burns.loc[burns.timestamps < limit_timestamp]\n",
    "    swaps = swaps.loc[swaps.timestamps < limit_timestamp]\n",
    "\n",
    "    total_features[pool_address].update({'num_mints': len(mints), 'num_burns': len(burns), 'num_swaps': len(swaps)})\n",
    "\n",
    "    if 0 in [len(transfers)]:\n",
    "        continue\n",
    "\n",
    "    # Pool features\n",
    "    total_supply = + sum(transfers.loc[(transfers['from'] == shared.ETH_ADDRESS)]['value'].astype(float))\\\n",
    "                   - sum(transfers.loc[(transfers['to'] == shared.ETH_ADDRESS)]['value'].astype(float))\n",
    "    if total_supply == 0:\n",
    "        continue\n",
    "\n",
    "    # Transfer features\n",
    "    tx_curve = get_curve(transfers.values, type_='tx')\n",
    "    total_features[pool_address].update(tx_curve)\n",
    "    transfer_features = get_transfer_features(transfers, total_supply)\n",
    "    total_features[pool_address].update(transfer_features)\n",
    "    total_features[pool_address].update({'difference_token_pool': + pool_creation_timestamp\n",
    "                                                                  - transfers.iloc[0]['timestamps']})\n",
    "\n",
    "pd.DataFrame(total_features).transpose().to_csv(f\"./data/{protocol}/features{hours_since_creation}h.csv\", index_label=\"pool_address\")\n"
   ]
  },
  {
   "cell_type": "code",
   "execution_count": 3,
   "metadata": {},
   "outputs": [
    {
     "data": {
      "text/html": [
       "<div>\n",
       "<style scoped>\n",
       "    .dataframe tbody tr th:only-of-type {\n",
       "        vertical-align: middle;\n",
       "    }\n",
       "\n",
       "    .dataframe tbody tr th {\n",
       "        vertical-align: top;\n",
       "    }\n",
       "\n",
       "    .dataframe thead th {\n",
       "        text-align: right;\n",
       "    }\n",
       "</style>\n",
       "<table border=\"1\" class=\"dataframe\">\n",
       "  <thead>\n",
       "    <tr style=\"text-align: right;\">\n",
       "      <th></th>\n",
       "      <th>0</th>\n",
       "    </tr>\n",
       "  </thead>\n",
       "  <tbody>\n",
       "    <tr>\n",
       "      <th>0</th>\n",
       "      <td>0xC6c1f684151eb235472139477F869b2e8385C416</td>\n",
       "    </tr>\n",
       "    <tr>\n",
       "      <th>1</th>\n",
       "      <td>0xa9B7F1f421294e8Aae4f0fE237af84dF0a747185</td>\n",
       "    </tr>\n",
       "    <tr>\n",
       "      <th>2</th>\n",
       "      <td>0xCD6EaF64087a1F3AE6ae5Ab4cdf83568a4152F9e</td>\n",
       "    </tr>\n",
       "    <tr>\n",
       "      <th>3</th>\n",
       "      <td>0xdf9B4b57865B403e08c85568442f95c26b7896b0</td>\n",
       "    </tr>\n",
       "    <tr>\n",
       "      <th>4</th>\n",
       "      <td>0xA798bA9A2188ad61Be6b930C5B6a69a3C7d4aed3</td>\n",
       "    </tr>\n",
       "    <tr>\n",
       "      <th>...</th>\n",
       "      <td>...</td>\n",
       "    </tr>\n",
       "    <tr>\n",
       "      <th>298</th>\n",
       "      <td>0x3B9b24991fC6F3CBe518843cBcd43fB937A65FB8</td>\n",
       "    </tr>\n",
       "    <tr>\n",
       "      <th>299</th>\n",
       "      <td>0xE516be297c846a4a4bF9ec163D6864BB552825Ef</td>\n",
       "    </tr>\n",
       "    <tr>\n",
       "      <th>300</th>\n",
       "      <td>0x041dEE4Be8Dd8A5C2927444A533e30320ffF50D3</td>\n",
       "    </tr>\n",
       "    <tr>\n",
       "      <th>301</th>\n",
       "      <td>0xa42fc534e7bc353Cd230EE399BC4c7141837FEEC</td>\n",
       "    </tr>\n",
       "    <tr>\n",
       "      <th>302</th>\n",
       "      <td>0x2fb36d7dD2B8EfbaeB434C18437EE5232A1c57a8</td>\n",
       "    </tr>\n",
       "  </tbody>\n",
       "</table>\n",
       "<p>303 rows × 1 columns</p>\n",
       "</div>"
      ],
      "text/plain": [
       "                                              0\n",
       "0    0xC6c1f684151eb235472139477F869b2e8385C416\n",
       "1    0xa9B7F1f421294e8Aae4f0fE237af84dF0a747185\n",
       "2    0xCD6EaF64087a1F3AE6ae5Ab4cdf83568a4152F9e\n",
       "3    0xdf9B4b57865B403e08c85568442f95c26b7896b0\n",
       "4    0xA798bA9A2188ad61Be6b930C5B6a69a3C7d4aed3\n",
       "..                                          ...\n",
       "298  0x3B9b24991fC6F3CBe518843cBcd43fB937A65FB8\n",
       "299  0xE516be297c846a4a4bF9ec163D6864BB552825Ef\n",
       "300  0x041dEE4Be8Dd8A5C2927444A533e30320ffF50D3\n",
       "301  0xa42fc534e7bc353Cd230EE399BC4c7141837FEEC\n",
       "302  0x2fb36d7dD2B8EfbaeB434C18437EE5232A1c57a8\n",
       "\n",
       "[303 rows x 1 columns]"
      ]
     },
     "execution_count": 3,
     "metadata": {},
     "output_type": "execute_result"
    }
   ],
   "source": [
    "tokens"
   ]
  },
  {
   "cell_type": "code",
   "execution_count": null,
   "metadata": {},
   "outputs": [],
   "source": []
  }
 ],
 "metadata": {
  "interpreter": {
   "hash": "c6e4e9f98eb68ad3b7c296f83d20e6de614cb42e90992a65aa266555a3137d0d"
  },
  "kernelspec": {
   "display_name": "Python 3.9.10 ('base')",
   "language": "python",
   "name": "python3"
  },
  "language_info": {
   "codemirror_mode": {
    "name": "ipython",
    "version": 3
   },
   "file_extension": ".py",
   "mimetype": "text/x-python",
   "name": "python",
   "nbconvert_exporter": "python",
   "pygments_lexer": "ipython3",
   "version": "3.9.10"
  },
  "orig_nbformat": 4
 },
 "nbformat": 4,
 "nbformat_minor": 2
}
